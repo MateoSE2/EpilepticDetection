{
 "cells": [
  {
   "cell_type": "code",
   "execution_count": null,
   "metadata": {},
   "outputs": [],
   "source": [
    "import pandas as pd"
   ]
  },
  {
   "cell_type": "code",
   "execution_count": null,
   "metadata": {},
   "outputs": [],
   "source": [
    "class DataHandler():\n",
    "    def __init__(self):\n",
    "        self.labels_df = None\n",
    "        self.windows_matrix = None\n",
    "\n",
    "    def read_labels_data(self, filepath):\n",
    "        '''\n",
    "        Llegeix les dades de les etiquetes (Excel) i les guarda com a atribut de l'objecte DataHandler com a pandas dataframe (self.labels_df).\n",
    "        :param filepath: ruta del Excel\n",
    "        :type filepath: str\n",
    "        '''\n",
    "\n",
    "        pd_tmp= pd.read_excel(filepath) \n",
    "        #Possible data massage\n",
    "        self.labels_df = pd_tmp\n",
    "\n",
    "    def read_raw_data(self, filepath):\n",
    "        '''\n",
    "        Llegeix les dades raw del filepath, elimina les últimes 3 columnes i ho carrega en un pandas dataframe.\n",
    "        Les dades raw corresponen a un sol pacient amb tots els seus recordings concatenats.\n",
    "\n",
    "        :param filepath: ruta del arxiu parquet\n",
    "        :type filepath: str\n",
    "        :return: pandas de los datos del paciente, pacient_name, llista de recordings\n",
    "        :rtype: pandas dataframe, str, list\n",
    "        '''\n",
    "        pd_pacient = pd.read_parquet(filepath, engine='pyarrow') #pip install pyarrow\n",
    "        #data massage consiguiendo el número del recording a partir del filename\n",
    "\n",
    "\n",
    "        return  pd_pacient, pacient_name, list_recordings\n",
    "\n",
    "\n",
    "    def generate_windows(self, pd_pacient, pacient_name, list_recordings):\n",
    "        \"\"\"\n",
    "        Separa el senyal del pacient en diferents recordings.\n",
    "        Per cada recording, el separa per periodes (normal o atac (0/1)).\n",
    "        També per recording el separa per finestres de k segons (128 dades per segon).\n",
    "        A mesura que es creen les finestres s'etiqueten amb les metadades (label, pacient, index_inicial, periode i recording).\n",
    "    \n",
    "        Finalment, les metadades en un pd dataframe de tal manera que cada fila sigui una finestra amb totes les seves metadades.\n",
    "\n",
    "        :param pd_pacient: pd amb les dades dels recordings del pacient\n",
    "        :type pd_pacient: pandas dataframe\n",
    "        :param pacient_name: nom del pacient\n",
    "        :type pacient_name: str\n",
    "        :param list_recordings: llista els noms dels recordings\n",
    "        :type list_recordings: list\n",
    "        \"\"\"\n",
    "        \n",
    "        pass\n",
    "\n",
    "\n",
    "    def save_data(folder):\n",
    "        \"\"\"\n",
    "        Guarda les windows i les metadades al folder\n",
    "\n",
    "        :param folder: ruta del directori on guardarem la info\n",
    "        :type folder: str\n",
    "        \"\"\"\n",
    "\n",
    "        pass\n",
    "\n",
    "\n"
   ]
  }
 ],
 "metadata": {
  "kernelspec": {
   "display_name": "Python 3.8.5",
   "language": "python",
   "name": "python3"
  },
  "language_info": {
   "name": "python",
   "version": "3.8.5"
  },
  "orig_nbformat": 4,
  "vscode": {
   "interpreter": {
    "hash": "5b6fc3ce3eaec4f70148e320ca17ecc6ceb997839ba09116002de4fd80a316da"
   }
  }
 },
 "nbformat": 4,
 "nbformat_minor": 2
}
